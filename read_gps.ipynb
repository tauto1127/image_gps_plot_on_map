{
 "cells": [
  {
   "cell_type": "code",
   "execution_count": 18,
   "metadata": {},
   "outputs": [],
   "source": [
    "import os\n",
    "from PIL import Image\n",
    "from PIL.ExifTags import TAGS, GPSTAGS\n",
    "\n",
    "out_files = os.listdir('out')\n",
    "# for file in out_files:\n",
    "#     img = Image.open( \"out/\" + file )\n",
    "\n",
    "def get_exif_data(image):\n",
    "    exif_data = {}\n",
    "    info = image._getexif()\n",
    "    if info:\n",
    "        for tag, value in info.items():\n",
    "            tag_name = TAGS.get(tag, tag)\n",
    "            if tag_name == \"GPSInfo\":\n",
    "                gps_data = {}\n",
    "                for t in value:\n",
    "                    sub_tag = GPSTAGS.get(t, t)\n",
    "                    gps_data[sub_tag] = value[t]\n",
    "                exif_data[tag_name] = gps_data\n",
    "            else:\n",
    "                exif_data[tag_name] = value\n",
    "    return exif_data\n",
    "\n",
    "def get_lat_lon(exif_data):\n",
    "    gps_info = exif_data.get(\"GPSInfo\")\n",
    "    if not gps_info:\n",
    "        return None, None\n",
    "\n",
    "    def convert_to_degrees(value):\n",
    "        d = float(value[0].numerator) / float(value[0].denominator)\n",
    "        m = float(value[1].numerator) / float(value[1].denominator)\n",
    "        s = float(value[2].numerator) / float(value[2].denominator)\n",
    "        return d + (m / 60.0) + (s / 3600.0)\n",
    "\n",
    "    lat = convert_to_degrees(gps_info[\"GPSLatitude\"])\n",
    "    lon = convert_to_degrees(gps_info[\"GPSLongitude\"])\n",
    "\n",
    "    if gps_info[\"GPSLatitudeRef\"] != \"N\":\n",
    "        lat = -lat\n",
    "    if gps_info[\"GPSLongitudeRef\"] != \"E\":\n",
    "        lon = -lon\n",
    "\n",
    "    return lat, lon\n",
    "\n",
    "file = \"gps\"\n",
    "fileobj = open(file, \"w\", encoding = \"utf_8\")\n",
    "\n",
    "for file in out_files:\n",
    "    img = Image.open(\"out/\" + file)\n",
    "    exif_data = get_exif_data(img)\n",
    "    lat, lon = get_lat_lon(exif_data)\n",
    "    fileobj.write(f\"{lat},{lon}\\n\")\n",
    "\n",
    "fileobj.close()\n"
   ]
  },
  {
   "cell_type": "code",
   "execution_count": 1,
   "metadata": {},
   "outputs": [
    {
     "name": "stdout",
     "output_type": "stream",
     "text": [
      "a\n"
     ]
    }
   ],
   "source": [
    "print(\"a\")"
   ]
  }
 ],
 "metadata": {
  "kernelspec": {
   "display_name": "Python 3",
   "language": "python",
   "name": "python3"
  },
  "language_info": {
   "codemirror_mode": {
    "name": "ipython",
    "version": 3
   },
   "file_extension": ".py",
   "mimetype": "text/x-python",
   "name": "python",
   "nbconvert_exporter": "python",
   "pygments_lexer": "ipython3",
   "version": "3.9.6"
  }
 },
 "nbformat": 4,
 "nbformat_minor": 2
}
